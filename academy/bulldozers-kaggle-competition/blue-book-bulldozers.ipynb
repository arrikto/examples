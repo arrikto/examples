{
 "cells": [
  {
   "cell_type": "markdown",
   "source": [
    "# Blue Book for Bulldozers\n",
    "\n",
    "In this example, we will create a model to solve the [Blue Book for Bulldozers](https://www.kaggle.com/c/bluebook-for-bulldozers) Kaggle competition. For this competition, we should predict the sale price of bulldozers sold at auctions.\n",
    "\n",
    "First, we observe that this is a regression task, since we are predicting a real-valued number. For this tutorial, the dataset is one CSV file, containing more than 20.000 examples, each one having 51 features (if you exclude the `SalesID` and the `SalesPrice` attributes)."
   ],
   "metadata": {
    "tags": []
   }
  },
  {
   "cell_type": "markdown",
   "source": [
    "## Install\n",
    "\n",
    "First things first, we need to install the necessary dependencies. We can do that by either running `!pip install --user <package_name>` or including everything in a `requirements.txt` file and running `!pip install --user -r requirements.txt`. We have put the dependencies in a `requirements.txt` file already, so we will use the second method.\n",
    "\n",
    "> NOTE: Do not forget to use the `--user` argument. It is necessary if you want to use Kale to transform this notebook into a Kubeflow pipeline"
   ],
   "metadata": {
    "tags": []
   }
  },
  {
   "cell_type": "code",
   "source": [
    "!pip3 install --user -r requirements.txt"
   ],
   "outputs": [],
   "execution_count": null,
   "metadata": {
    "scrolled": true
   }
  },
  {
   "cell_type": "markdown",
   "source": [
    "## Imports\n",
    "\n",
    "In this section we import the packages we need for this example. When working in a Jupyter Notebook, it is a good habit to gather your imports in a single place."
   ],
   "metadata": {
    "tags": []
   }
  },
  {
   "cell_type": "code",
   "source": [
    "import numpy as np\n",
    "import pandas as pd\n",
    "\n",
    "from kubeflow import katib\n",
    "from kale.types import MLTask\n",
    "from kale import ml as kale_ml\n",
    "from kale.common import artifacts\n",
    "from autosklearn import metrics\n",
    "from fastai.tabular import core"
   ],
   "outputs": [],
   "execution_count": null,
   "metadata": {}
  },
  {
   "cell_type": "markdown",
   "source": [
    "## Data Loading\n",
    "\n",
    "In this section we load the dataset and do some light processing. Specifically, we need to turn every categorical feature into a number. First, let's load the data."
   ],
   "metadata": {
    "tags": []
   }
  },
  {
   "cell_type": "code",
   "source": [
    "df = pd.read_csv(\"data/train.csv\", low_memory=False)\n",
    "df.head()"
   ],
   "outputs": [
    {
     "output_type": "execute_result",
     "execution_count": 2,
     "data": {
      "text/html": "<div>\n<style scoped>\n    .dataframe tbody tr th:only-of-type {\n        vertical-align: middle;\n    }\n\n    .dataframe tbody tr th {\n        vertical-align: top;\n    }\n\n    .dataframe thead th {\n        text-align: right;\n    }\n</style>\n<table border=\"1\" class=\"dataframe\">\n  <thead>\n    <tr style=\"text-align: right;\">\n      <th></th>\n      <th>SalesID</th>\n      <th>SalePrice</th>\n      <th>MachineID</th>\n      <th>ModelID</th>\n      <th>datasource</th>\n      <th>auctioneerID</th>\n      <th>YearMade</th>\n      <th>MachineHoursCurrentMeter</th>\n      <th>UsageBand</th>\n      <th>saledate</th>\n      <th>...</th>\n      <th>Undercarriage_Pad_Width</th>\n      <th>Stick_Length</th>\n      <th>Thumb</th>\n      <th>Pattern_Changer</th>\n      <th>Grouser_Type</th>\n      <th>Backhoe_Mounting</th>\n      <th>Blade_Type</th>\n      <th>Travel_Controls</th>\n      <th>Differential_Type</th>\n      <th>Steering_Controls</th>\n    </tr>\n  </thead>\n  <tbody>\n    <tr>\n      <th>0</th>\n      <td>1597691</td>\n      <td>10000.0</td>\n      <td>1204623</td>\n      <td>4600</td>\n      <td>132</td>\n      <td>18.0</td>\n      <td>1979</td>\n      <td>NaN</td>\n      <td>NaN</td>\n      <td>4/21/1994 0:00</td>\n      <td>...</td>\n      <td>NaN</td>\n      <td>NaN</td>\n      <td>NaN</td>\n      <td>NaN</td>\n      <td>NaN</td>\n      <td>NaN</td>\n      <td>NaN</td>\n      <td>NaN</td>\n      <td>NaN</td>\n      <td>NaN</td>\n    </tr>\n    <tr>\n      <th>1</th>\n      <td>1363686</td>\n      <td>10000.0</td>\n      <td>1149235</td>\n      <td>7267</td>\n      <td>132</td>\n      <td>8.0</td>\n      <td>1978</td>\n      <td>NaN</td>\n      <td>NaN</td>\n      <td>3/27/2002 0:00</td>\n      <td>...</td>\n      <td>NaN</td>\n      <td>NaN</td>\n      <td>NaN</td>\n      <td>NaN</td>\n      <td>NaN</td>\n      <td>NaN</td>\n      <td>NaN</td>\n      <td>NaN</td>\n      <td>Standard</td>\n      <td>Conventional</td>\n    </tr>\n    <tr>\n      <th>2</th>\n      <td>1767435</td>\n      <td>64000.0</td>\n      <td>1164512</td>\n      <td>28919</td>\n      <td>132</td>\n      <td>1.0</td>\n      <td>2006</td>\n      <td>NaN</td>\n      <td>NaN</td>\n      <td>3/15/2011 0:00</td>\n      <td>...</td>\n      <td>NaN</td>\n      <td>NaN</td>\n      <td>NaN</td>\n      <td>NaN</td>\n      <td>NaN</td>\n      <td>NaN</td>\n      <td>NaN</td>\n      <td>NaN</td>\n      <td>Standard</td>\n      <td>Conventional</td>\n    </tr>\n    <tr>\n      <th>3</th>\n      <td>1639287</td>\n      <td>24500.0</td>\n      <td>1457804</td>\n      <td>1894</td>\n      <td>132</td>\n      <td>15.0</td>\n      <td>2001</td>\n      <td>NaN</td>\n      <td>NaN</td>\n      <td>11/4/2010 0:00</td>\n      <td>...</td>\n      <td>NaN</td>\n      <td>NaN</td>\n      <td>NaN</td>\n      <td>NaN</td>\n      <td>NaN</td>\n      <td>None or Unspecified</td>\n      <td>PAT</td>\n      <td>None or Unspecified</td>\n      <td>NaN</td>\n      <td>NaN</td>\n    </tr>\n    <tr>\n      <th>4</th>\n      <td>2277587</td>\n      <td>21750.0</td>\n      <td>572911</td>\n      <td>2758</td>\n      <td>136</td>\n      <td>20.0</td>\n      <td>1998</td>\n      <td>5155.0</td>\n      <td>Medium</td>\n      <td>4/16/2008 0:00</td>\n      <td>...</td>\n      <td>NaN</td>\n      <td>NaN</td>\n      <td>NaN</td>\n      <td>NaN</td>\n      <td>NaN</td>\n      <td>None or Unspecified</td>\n      <td>PAT</td>\n      <td>None or Unspecified</td>\n      <td>NaN</td>\n      <td>NaN</td>\n    </tr>\n  </tbody>\n</table>\n<p>5 rows × 53 columns</p>\n</div>",
      "text/plain": "   SalesID  SalePrice  MachineID  ModelID  datasource  auctioneerID  YearMade  \\\n0  1597691    10000.0    1204623     4600         132          18.0      1979   \n1  1363686    10000.0    1149235     7267         132           8.0      1978   \n2  1767435    64000.0    1164512    28919         132           1.0      2006   \n3  1639287    24500.0    1457804     1894         132          15.0      2001   \n4  2277587    21750.0     572911     2758         136          20.0      1998   \n\n   MachineHoursCurrentMeter UsageBand        saledate  ...  \\\n0                       NaN       NaN  4/21/1994 0:00  ...   \n1                       NaN       NaN  3/27/2002 0:00  ...   \n2                       NaN       NaN  3/15/2011 0:00  ...   \n3                       NaN       NaN  11/4/2010 0:00  ...   \n4                    5155.0    Medium  4/16/2008 0:00  ...   \n\n  Undercarriage_Pad_Width Stick_Length Thumb Pattern_Changer Grouser_Type  \\\n0                     NaN          NaN   NaN             NaN          NaN   \n1                     NaN          NaN   NaN             NaN          NaN   \n2                     NaN          NaN   NaN             NaN          NaN   \n3                     NaN          NaN   NaN             NaN          NaN   \n4                     NaN          NaN   NaN             NaN          NaN   \n\n      Backhoe_Mounting Blade_Type      Travel_Controls Differential_Type  \\\n0                  NaN        NaN                  NaN               NaN   \n1                  NaN        NaN                  NaN          Standard   \n2                  NaN        NaN                  NaN          Standard   \n3  None or Unspecified        PAT  None or Unspecified               NaN   \n4  None or Unspecified        PAT  None or Unspecified               NaN   \n\n  Steering_Controls  \n0               NaN  \n1      Conventional  \n2      Conventional  \n3               NaN  \n4               NaN  \n\n[5 rows x 53 columns]"
     },
     "metadata": {}
    }
   ],
   "execution_count": 2,
   "metadata": {}
  },
  {
   "cell_type": "markdown",
   "source": [
    "## Data Processing\n",
    "\n",
    "Let's go through the transformations we need to do to our data:\n",
    "\n",
    "1. Extract the target variable (`SalePrice`)\n",
    "2. Encode the ordinal variables\n",
    "3. Unfold the dates to engineer more features, and\n",
    "4. Split the dataset into `train` and `valid` sets\n",
    "\n",
    "First, let's keep our target in a variable:"
   ],
   "metadata": {
    "tags": []
   }
  },
  {
   "cell_type": "code",
   "source": [
    "target_var = 'SalePrice'"
   ],
   "outputs": [],
   "execution_count": 3,
   "metadata": {}
  },
  {
   "cell_type": "markdown",
   "source": [
    "The next step is to encode the ordinal variables. Why do we treat the `ProductSize` variable differently? It is because the order here does matter. So if we want to assign a number to every value that this variable can take, we need to account for that. Thus, `Large` can take the value `1`, `Large / Medium` the value `2`, and so on."
   ],
   "metadata": {
    "tags": []
   }
  },
  {
   "cell_type": "code",
   "source": [
    "# ordinal data\n",
    "sizes = 'Large', 'Large / Medium', 'Medium', 'Small', 'Mini', 'Compact'\n",
    "\n",
    "df['ProductSize'] = df['ProductSize'].astype('category')\n",
    "df['ProductSize'].cat.set_categories(sizes, ordered=True, inplace=True)"
   ],
   "outputs": [],
   "execution_count": 4,
   "metadata": {}
  },
  {
   "cell_type": "markdown",
   "source": [
    "Next, we need to unfold the `date` feature to extract more information out of it. For example, it makes sense to know if it's Christmas, or a Weekend, if it's Summer or Winter, or even which day of the week it is.\n",
    "\n",
    "To achieve this, we will use a handy function provided by the [fastai](https://docs.fast.ai/) library: `add_datepart`."
   ],
   "metadata": {
    "tags": []
   }
  },
  {
   "cell_type": "code",
   "source": [
    "# expand dates\n",
    "df = core.add_datepart(df, 'saledate')"
   ],
   "outputs": [],
   "execution_count": 5,
   "metadata": {}
  },
  {
   "cell_type": "markdown",
   "source": [
    "Now, we are ready to split our dataset into `train` and `test` sets. Since, we are trying to predict the sale price of bulldozers in some auction, we should be extra careful about how we split our data. We want the validation set to be later in time than the training set. We shouldn't allow future values to leak into our training set."
   ],
   "metadata": {
    "tags": []
   }
  },
  {
   "cell_type": "code",
   "source": [
    "# create splits\n",
    "condition = (df.saleYear<2011) | (df.saleMonth<10)\n",
    "train_idx = np.where(condition)[0]\n",
    "valid_idx = np.where(~condition)[0]\n",
    "splits = (list(train_idx), list(valid_idx))\n",
    "\n",
    "# locate continuous and categorigal features\n",
    "cont, cat = core.cont_cat_split(df, 1, dep_var=target_var)\n",
    "\n",
    "# preprocess the dataset\n",
    "df_proc = core.TabularPandas(df, [core.Categorify], cat, cont, y_names=target_var, splits=splits)"
   ],
   "outputs": [],
   "execution_count": 6,
   "metadata": {}
  },
  {
   "cell_type": "markdown",
   "source": [
    "Now that we have finished processing our dataset, we are ready to extract our features and labels into `numpy` arrays."
   ],
   "metadata": {
    "tags": []
   }
  },
  {
   "cell_type": "code",
   "source": [
    "# create feature and target matrices\n",
    "X_train = df_proc.train.items.drop(\"SalePrice\", axis=1).values\n",
    "y_train = df_proc.train.items[\"SalePrice\"].values\n",
    "X_valid = df_proc.valid.items.drop(\"SalePrice\", axis=1).values\n",
    "y_valid = df_proc.valid.items[\"SalePrice\"].values"
   ],
   "outputs": [],
   "execution_count": 7,
   "metadata": {}
  },
  {
   "cell_type": "markdown",
   "source": [
    "Kale provides a useful abstraction to group together our dataset. We just need to provide the `X` and `y` values."
   ],
   "metadata": {
    "tags": []
   }
  },
  {
   "cell_type": "code",
   "source": [
    "# create Kale Dataset\n",
    "dataset = artifacts.Dataset(\n",
    "    features=X_train,\n",
    "    targets=y_train,\n",
    "    features_test=X_valid,\n",
    "    targets_test=y_valid,\n",
    "    name=\"bluebook-bulldozers\")"
   ],
   "outputs": [],
   "execution_count": 8,
   "metadata": {}
  },
  {
   "cell_type": "markdown",
   "source": [
    "Finally, we are ready to run our AutoML experiment using Kale. We need three things:\n",
    "\n",
    "* The dataset\n",
    "* The task (in our case regression)\n",
    "* The metric we are trying to optimize\n",
    "\n",
    "Moreover, we can pass a parameter, to let Kale know how many different ML configurations it should try, and a Katib specification, if you want to further optimize the best performing predictor."
   ],
   "metadata": {
    "tags": []
   }
  },
  {
   "cell_type": "code",
   "source": [
    "# create the Katib configuration\n",
    "tuner = katib.V1beta1ExperimentSpec(\n",
    "    objective=katib.V1beta1ObjectiveSpec(\n",
    "        goal=0.,\n",
    "        type=\"maximize\"\n",
    "    ),\n",
    "    max_trial_count=2,\n",
    "    parallel_trial_count=1\n",
    ")"
   ],
   "outputs": [],
   "execution_count": 9,
   "metadata": {
    "tags": []
   }
  },
  {
   "cell_type": "code",
   "source": [
    "# execute the AutoML experiment\n",
    "automl = kale_ml.run_automl(dataset,\n",
    "                            MLTask.SIMPLE_REGRESSION,\n",
    "                            metric=metrics.mean_squared_log_error,\n",
    "                            number_of_configurations=4,\n",
    "                            max_parallel_configurations=2,\n",
    "                            tuner=tuner)"
   ],
   "outputs": [
    {
     "output_type": "stream",
     "name": "stderr",
     "text": [
      "2021-04-22 11:45:09 Kale marshalling          [INFO]     Saving generic object using Default backend: dataset\n",
      "2021-04-22 11:45:09 Kale marshalling          [INFO]     Saving generic object using Default backend: task\n",
      "2021-04-22 11:45:09 Kale marshalling          [INFO]     Saving scikit-learn object using SKLearn backend: metric\n",
      "2021-04-22 11:45:09 Kale marshalling          [INFO]     Saving generic object using Default backend: number_of_configurations\n",
      "2021-04-22 11:45:09 Kale marshalling          [INFO]     Saving generic object using Default backend: max_parallel_configurations\n",
      "2021-04-22 11:45:09 Kale marshalling          [INFO]     Saving generic object using Default backend: tuner\n",
      "2021-04-22 11:45:09 Kale rokutils:156         [INFO]     Taking a snapshot of the Pod's volumes...\n",
      "2021-04-22 11:45:09 Kale rokutils:105         [INFO]     Taking a snapshot of pod kubecon-tutorial-0 in namespace kubeflow-user ...\n",
      "2021-04-22 11:45:09 Kale rokutils:313         [INFO]     Creating Rok bucket 'notebooks'...\n",
      "2021-04-22 11:45:09 Kale rokutils:323         [INFO]     Rok bucket 'notebooks' already exists\n",
      "2021-04-22 11:45:10 Kale rokutils:177         [INFO]     Monitoring Rok snapshot with task id: de71f0965d1a4f9dbf2cd867e555f846\n",
      "2021-04-22 11:45:22 Kale rokutils:192         [INFO]     Successfully created Rok snapshot\n",
      "2021-04-22 11:45:22 Kale podutils:275         [INFO]     Getting the base image of container...\n",
      "2021-04-22 11:45:22 Kale podutils:288         [INFO]     Retrieved image: gcr.io/arrikto-playground/elikatsis/jupyter-kale@sha256:021d062da17aca25f85513ca7b00e77fac6d94addefb68ac0fd33a84e9eb24ff\n",
      "2021-04-22 11:45:22 Kale kfutils:70           [INFO]     Retrieving PodDefaults applied to server...\n",
      "2021-04-22 11:45:22 Kale kfutils:76           [INFO]     Retrieved applied PodDefaults: ['access-ml-pipeline', 'rok-auth']\n",
      "2021-04-22 11:45:22 Kale kfutils:80           [INFO]     PodDefault labels applied on server: access-ml-pipeline: true, access-rok: true\n",
      "2021-04-22 11:45:22 Kale kale                 [INFO]     Compiling to a KFP Pipeline\n",
      "2021-04-22 11:45:22 Kale kale                 [WARNING]  Failed to enable 'set_owner_reference' for 'create-volume-1'. Moving on without garbage collection...\n",
      "2021-04-22 11:45:22 Kale kale                 [INFO]     Saving generated code in /home/jovyan/prv-kale/backend/kale/ml/examples/tutorial/.kale\n",
      "2021-04-22 11:45:22 Kale kale                 [INFO]     Successfully saved workflow yaml: /home/jovyan/prv-kale/backend/kale/ml/examples/tutorial/.kale/automl-orchestrate.kale.yaml\n",
      "2021-04-22 11:45:22 Kale kfputils:120         [INFO]     Uploading pipeline 'automl-orchestrate'...\n",
      "2021-04-22 11:45:22 Kale kfputils:143         [INFO]     Successfully uploaded version 'vu38n' for pipeline 'automl-orchestrate'.\n",
      "2021-04-22 11:45:22 Kale kfputils:162         [INFO]     Creating KFP experiment 'kale-automl-4d7x4x'...\n",
      "[INFO]:root:Creating experiment kale-automl-4d7x4x.\n"
     ]
    },
    {
     "output_type": "display_data",
     "data": {
      "text/html": "<a href=\"/pipeline/#/experiments/details/b59c3570-49a1-4c00-bd90-6da75f942fb1\" target=\"_blank\" >Experiment details</a>.",
      "text/plain": "<IPython.core.display.HTML object>"
     },
     "metadata": {}
    },
    {
     "output_type": "stream",
     "name": "stderr",
     "text": [
      "2021-04-22 11:45:22 Kale kfputils:175         [INFO]     Submitting new pipeline run 'automl-orchestrate-vu38n-dk9u7' for pipeline 'automl-orchestrate' (version: 'vu38n') ...\n"
     ]
    },
    {
     "output_type": "display_data",
     "data": {
      "text/html": "<a href=\"/pipeline/#/runs/details/6ff92eaf-3d9a-4190-9318-d6d29d78100c\" target=\"_blank\" >Run details</a>.",
      "text/plain": "<IPython.core.display.HTML object>"
     },
     "metadata": {}
    },
    {
     "output_type": "stream",
     "name": "stderr",
     "text": [
      "2021-04-22 11:45:22 Kale kfputils:182         [INFO]     Successfully submitted pipeline run.\n",
      "2021-04-22 11:45:22 Kale kfputils:183         [INFO]     Run URL: <host>/pipeline/?ns=kubeflow-user#/runs/details/6ff92eaf-3d9a-4190-9318-d6d29d78100c\n"
     ]
    }
   ],
   "execution_count": 11,
   "metadata": {}
  },
  {
   "cell_type": "markdown",
   "source": [
    "You can monitor the experiment by printing a summary of the AutoML task at any point in time."
   ],
   "metadata": {
    "tags": []
   }
  },
  {
   "cell_type": "code",
   "source": [
    "automl.summary()"
   ],
   "outputs": [
    {
     "output_type": "stream",
     "name": "stdout",
     "text": [
      "AutoML Orchestrator status: Succeeded\n",
      "\n",
      "4/4 Configuration Runs have started.\n",
      "\n"
     ]
    },
    {
     "output_type": "display_data",
     "data": {
      "text/html": "<table>\n<thead>\n<tr><th>Status   </th><th style=\"text-align: right;\">  Count</th></tr>\n</thead>\n<tbody>\n<tr><td>Running  </td><td style=\"text-align: right;\">      0</td></tr>\n<tr><td>Succeeded</td><td style=\"text-align: right;\">      4</td></tr>\n<tr><td>Skipped  </td><td style=\"text-align: right;\">      0</td></tr>\n<tr><td>Failed   </td><td style=\"text-align: right;\">      0</td></tr>\n<tr><td>Error    </td><td style=\"text-align: right;\">      0</td></tr>\n</tbody>\n</table>",
      "text/plain": "<IPython.core.display.HTML object>"
     },
     "metadata": {}
    },
    {
     "output_type": "stream",
     "name": "stdout",
     "text": [
      "\n",
      "\n"
     ]
    },
    {
     "output_type": "display_data",
     "data": {
      "text/html": "<table>\n<thead>\n<tr><th style=\"text-align: right;\">  #</th><th>KFP Run                             </th><th>Status   </th><th style=\"text-align: right;\">  Metric (mean_squared_log_error)</th></tr>\n</thead>\n<tbody>\n<tr><td style=\"text-align: right;\">  1</td><td><a href=\"/pipeline/#/runs/details/c7ab64ce-b59a-4193-ad75-098065e59666\" target=\"_blank\">c7ab64ce-b59a-4193-ad75-098065e59666</a></td><td>Succeeded</td><td style=\"text-align: right;\">                       -0.467985 </td></tr>\n<tr><td style=\"text-align: right;\">  2</td><td><a href=\"/pipeline/#/runs/details/0600f3e3-855c-411d-8034-6aaf76417b5d\" target=\"_blank\">0600f3e3-855c-411d-8034-6aaf76417b5d</a></td><td>Succeeded</td><td style=\"text-align: right;\">                       -0.0687647</td></tr>\n<tr><td style=\"text-align: right;\">  3</td><td><a href=\"/pipeline/#/runs/details/3f2d62bc-2a99-40c6-9237-c61525acc31c\" target=\"_blank\">3f2d62bc-2a99-40c6-9237-c61525acc31c</a></td><td>Succeeded</td><td style=\"text-align: right;\">                       -0.483285 </td></tr>\n<tr><td style=\"text-align: right;\">  4</td><td><a href=\"/pipeline/#/runs/details/ccbab346-776f-46f3-85bf-5c79b03c98f2\" target=\"_blank\">ccbab346-776f-46f3-85bf-5c79b03c98f2</a></td><td>Succeeded</td><td style=\"text-align: right;\">                       -0.257837 </td></tr>\n</tbody>\n</table>",
      "text/plain": "<IPython.core.display.HTML object>"
     },
     "metadata": {}
    },
    {
     "output_type": "stream",
     "name": "stdout",
     "text": [
      "\n",
      "\n"
     ]
    }
   ],
   "execution_count": 12,
   "metadata": {}
  },
  {
   "cell_type": "markdown",
   "source": [
    "# Serve the best-performing model\n",
    "\n",
    "Now that we have found the best configuration and performed hyperparameter optimization on it, let's serve the best-performing model."
   ],
   "metadata": {
    "tags": []
   }
  },
  {
   "cell_type": "code",
   "source": [
    "from kale.serve import serve\n",
    "\n",
    "kale_model_artifact_id = <KALE_MODEL_ARTIFACT_ID_PLACEHOLDER>\n",
    "\n",
    "serve_config = {\"limits\": {\"memory\": \"4Gi\"},\n",
    "                \"annotations\": {\"sidecar.istio.io/inject\": \"false\"},\n",
    "                \"predictor\": {\"container\": {\"name\": \"container\", \"image\": \"gcr.io/arrikto/kfserving-sklearnserver-arr:v0.6.1-3-gcea2b3f\"}}}\n",
    "\n",
    "isvc = serve(name=\"automl-example\", model_id=kale_model_artifact_id, serve_config=serve_config)"
   ],
   "outputs": [],
   "execution_count": null,
   "metadata": {}
  },
  {
   "cell_type": "code",
   "source": [
    "from kale.serve import Endpoint\n",
    "\n",
    "endpoint = Endpoint(\"automl-example\")\n",
    "endpoint"
   ],
   "outputs": [],
   "execution_count": 14,
   "metadata": {}
  },
  {
   "cell_type": "markdown",
   "source": [
    "# Run predictions against the model"
   ],
   "metadata": {
    "tags": []
   }
  },
  {
   "cell_type": "code",
   "source": [
    "import json\n",
    "data = {\"instances\": X_valid[0:3, 0:62].tolist()}\n",
    "res = endpoint.predict(json.dumps(data))\n",
    "print(res)"
   ],
   "outputs": [
    {
     "output_type": "stream",
     "name": "stdout",
     "text": [
      "{'predictions': [46462.40234375, 19027.392578125, 28755.17578125]}\n"
     ]
    }
   ],
   "execution_count": 15,
   "metadata": {}
  },
  {
   "cell_type": "markdown",
   "source": [
    "# TensorBoard logs"
   ],
   "metadata": {
    "tags": []
   }
  },
  {
   "cell_type": "code",
   "source": [
    "from kale.common.tbutils import create_tensorboard_from_mlmd\n",
    "tensorboard_logs_artifact_id = <TENSORBOARD_LOGS_ARTIFACT_ID_PLACEHOLDER>\n",
    "tb = create_tensorboard_from_mlmd(tensorboard_logs_artifact_id, name=\"blue-book-bulldozers\")"
   ],
   "outputs": [
    {
     "output_type": "stream",
     "name": "stderr",
     "text": [
      "2021-04-22 13:57:00 Kale api:553              [INFO]     Hydrating PVC 'kubeflow-user/blue-book-bulldozers-pua2d-pvc' from Rok URI: rok:kubeflow-user:tensorboard-logs:katib-trial-sklearn-configuration-lbhxh-automl-orchestrate-rwcg5-workspace-kubecon-tutorial-i6nwkt6jc:2e4b6d3f-97ab-403e-bb5e-5f169f720bc9:/prv-kale/backend/kale/ml/examples/tutorial/logs\n",
      "2021-04-22 13:57:00 Kale rokutils:481         [INFO]     Unpacking Rok URI: 'rok:kubeflow-user:tensorboard-logs:katib-trial-sklearn-configuration-lbhxh-automl-orchestrate-rwcg5-workspace-kubecon-tutorial-i6nwkt6jc:2e4b6d3f-97ab-403e-bb5e-5f169f720bc9:/prv-kale/backend/kale/ml/examples/tutorial/logs'\n",
      "2021-04-22 13:57:00 Kale rokutils:485         [INFO]     User kubeflow-user; bucket tensorboard-logs; object katib-trial-sklearn-configuration-lbhxh-automl-orchestrate-rwcg5-workspace-kubecon-tutorial-i6nwkt6jc; version 2e4b6d3f-97ab-403e-bb5e-5f169f720bc9; path /prv-kale/backend/kale/ml/examples/tutorial/logs\n",
      "2021-04-22 13:57:00 Kale rokutils:251         [INFO]     Creating new PVC 'blue-book-bulldozers-pua2d-pvc' from Rok version 2e4b6d3f-97ab-403e-bb5e-5f169f720bc9 ...\n",
      "2021-04-22 13:57:00 Kale rokutils:263         [INFO]     Using Rok url: http://rok.rok.svc.cluster.local/swift/v1/kubeflow-user/tensorboard-logs/katib-trial-sklearn-configuration-lbhxh-automl-orchestrate-rwcg5-workspace-kubecon-tutorial-i6nwkt6jc?version=2e4b6d3f-97ab-403e-bb5e-5f169f720bc9\n",
      "2021-04-22 13:57:00 Kale rokutils:285         [INFO]     Successfully submitted PVC.\n",
      "2021-04-22 13:57:00 Kale rokutils:481         [INFO]     Unpacking Rok URI: 'rok:kubeflow-user:tensorboard-logs:katib-trial-sklearn-configuration-lbhxh-automl-orchestrate-rwcg5-workspace-kubecon-tutorial-i6nwkt6jc:2e4b6d3f-97ab-403e-bb5e-5f169f720bc9:/prv-kale/backend/kale/ml/examples/tutorial/logs'\n",
      "2021-04-22 13:57:00 Kale rokutils:485         [INFO]     User kubeflow-user; bucket tensorboard-logs; object katib-trial-sklearn-configuration-lbhxh-automl-orchestrate-rwcg5-workspace-kubecon-tutorial-i6nwkt6jc; version 2e4b6d3f-97ab-403e-bb5e-5f169f720bc9; path /prv-kale/backend/kale/ml/examples/tutorial/logs\n",
      "2021-04-22 13:57:00 Kale tensorboardutils:40  [INFO]     Creating Tensorboard 'kubeflow-user/blue-book-bulldozers-pua2d'...\n",
      "2021-04-22 13:57:00 Kale tensorboardutils:53  [INFO]     Successfully created Tensorboard 'kubeflow-user/blue-book-bulldozers-pua2d'\n",
      "2021-04-22 13:57:00 Kale tensorboardutils:108 [INFO]     Waiting for Tensorboard 'kubeflow-user/blue-book-bulldozers-pua2d' to become ready...\n",
      "2021-04-22 13:57:05 Kale tensorboardutils:108 [INFO]     Waiting for Tensorboard 'kubeflow-user/blue-book-bulldozers-pua2d' to become ready...\n",
      "2021-04-22 13:57:10 Kale tensorboardutils:108 [INFO]     Waiting for Tensorboard 'kubeflow-user/blue-book-bulldozers-pua2d' to become ready...\n",
      "2021-04-22 13:57:15 Kale tensorboardutils:108 [INFO]     Waiting for Tensorboard 'kubeflow-user/blue-book-bulldozers-pua2d' to become ready...\n",
      "2021-04-22 13:57:20 Kale tensorboardutils:108 [INFO]     Waiting for Tensorboard 'kubeflow-user/blue-book-bulldozers-pua2d' to become ready...\n",
      "2021-04-22 13:57:25 Kale tensorboardutils:108 [INFO]     Waiting for Tensorboard 'kubeflow-user/blue-book-bulldozers-pua2d' to become ready...\n",
      "2021-04-22 13:57:30 Kale tensorboardutils:108 [INFO]     Waiting for Tensorboard 'kubeflow-user/blue-book-bulldozers-pua2d' to become ready...\n",
      "2021-04-22 13:57:35 Kale tensorboardutils:108 [INFO]     Waiting for Tensorboard 'kubeflow-user/blue-book-bulldozers-pua2d' to become ready...\n",
      "2021-04-22 13:57:40 Kale tensorboardutils:108 [INFO]     Waiting for Tensorboard 'kubeflow-user/blue-book-bulldozers-pua2d' to become ready...\n",
      "2021-04-22 13:57:45 Kale tensorboardutils:108 [INFO]     Waiting for Tensorboard 'kubeflow-user/blue-book-bulldozers-pua2d' to become ready...\n",
      "2021-04-22 13:57:50 Kale tensorboardutils:108 [INFO]     Waiting for Tensorboard 'kubeflow-user/blue-book-bulldozers-pua2d' to become ready...\n",
      "2021-04-22 13:57:55 Kale tensorboardutils:108 [INFO]     Waiting for Tensorboard 'kubeflow-user/blue-book-bulldozers-pua2d' to become ready...\n",
      "2021-04-22 13:58:00 Kale tensorboardutils:108 [INFO]     Waiting for Tensorboard 'kubeflow-user/blue-book-bulldozers-pua2d' to become ready...\n",
      "2021-04-22 13:58:05 Kale tensorboardutils:108 [INFO]     Waiting for Tensorboard 'kubeflow-user/blue-book-bulldozers-pua2d' to become ready...\n",
      "2021-04-22 13:58:10 Kale tensorboardutils:108 [INFO]     Waiting for Tensorboard 'kubeflow-user/blue-book-bulldozers-pua2d' to become ready...\n",
      "2021-04-22 13:58:15 Kale tensorboardutils:108 [INFO]     Waiting for Tensorboard 'kubeflow-user/blue-book-bulldozers-pua2d' to become ready...\n",
      "2021-04-22 13:58:20 Kale tensorboardutils:108 [INFO]     Waiting for Tensorboard 'kubeflow-user/blue-book-bulldozers-pua2d' to become ready...\n",
      "2021-04-22 13:58:25 Kale tensorboardutils:108 [INFO]     Waiting for Tensorboard 'kubeflow-user/blue-book-bulldozers-pua2d' to become ready...\n",
      "2021-04-22 13:58:30 Kale tensorboardutils:108 [INFO]     Waiting for Tensorboard 'kubeflow-user/blue-book-bulldozers-pua2d' to become ready...\n",
      "2021-04-22 13:58:35 Kale tensorboardutils:108 [INFO]     Waiting for Tensorboard 'kubeflow-user/blue-book-bulldozers-pua2d' to become ready...\n",
      "2021-04-22 13:58:40 Kale tensorboardutils:108 [INFO]     Waiting for Tensorboard 'kubeflow-user/blue-book-bulldozers-pua2d' to become ready...\n",
      "2021-04-22 13:58:45 Kale tensorboardutils:108 [INFO]     Waiting for Tensorboard 'kubeflow-user/blue-book-bulldozers-pua2d' to become ready...\n",
      "2021-04-22 13:58:50 Kale tensorboardutils:108 [INFO]     Waiting for Tensorboard 'kubeflow-user/blue-book-bulldozers-pua2d' to become ready...\n",
      "2021-04-22 13:58:55 Kale tensorboardutils:108 [INFO]     Waiting for Tensorboard 'kubeflow-user/blue-book-bulldozers-pua2d' to become ready...\n",
      "2021-04-22 13:59:00 Kale tensorboardutils:108 [INFO]     Waiting for Tensorboard 'kubeflow-user/blue-book-bulldozers-pua2d' to become ready...\n",
      "2021-04-22 13:59:05 Kale tensorboardutils:108 [INFO]     Waiting for Tensorboard 'kubeflow-user/blue-book-bulldozers-pua2d' to become ready...\n",
      "2021-04-22 13:59:10 Kale tensorboardutils:108 [INFO]     Waiting for Tensorboard 'kubeflow-user/blue-book-bulldozers-pua2d' to become ready...\n",
      "2021-04-22 13:59:15 Kale tensorboardutils:108 [INFO]     Waiting for Tensorboard 'kubeflow-user/blue-book-bulldozers-pua2d' to become ready...\n",
      "2021-04-22 13:59:20 Kale tensorboardutils:108 [INFO]     Waiting for Tensorboard 'kubeflow-user/blue-book-bulldozers-pua2d' to become ready...\n",
      "2021-04-22 13:59:25 Kale tensorboardutils:108 [INFO]     Waiting for Tensorboard 'kubeflow-user/blue-book-bulldozers-pua2d' to become ready...\n",
      "2021-04-22 13:59:30 Kale tensorboardutils:108 [INFO]     Waiting for Tensorboard 'kubeflow-user/blue-book-bulldozers-pua2d' to become ready...\n",
      "2021-04-22 13:59:35 Kale tensorboardutils:108 [INFO]     Waiting for Tensorboard 'kubeflow-user/blue-book-bulldozers-pua2d' to become ready...\n",
      "2021-04-22 13:59:40 Kale tensorboardutils:108 [INFO]     Waiting for Tensorboard 'kubeflow-user/blue-book-bulldozers-pua2d' to become ready...\n",
      "2021-04-22 13:59:45 Kale tensorboardutils:108 [INFO]     Waiting for Tensorboard 'kubeflow-user/blue-book-bulldozers-pua2d' to become ready...\n",
      "2021-04-22 13:59:50 Kale tensorboardutils:108 [INFO]     Waiting for Tensorboard 'kubeflow-user/blue-book-bulldozers-pua2d' to become ready...\n",
      "2021-04-22 13:59:55 Kale tensorboardutils:108 [INFO]     Waiting for Tensorboard 'kubeflow-user/blue-book-bulldozers-pua2d' to become ready...\n",
      "2021-04-22 14:00:00 Kale tensorboardutils:108 [INFO]     Waiting for Tensorboard 'kubeflow-user/blue-book-bulldozers-pua2d' to become ready...\n",
      "2021-04-22 14:00:05 Kale tensorboardutils:108 [INFO]     Waiting for Tensorboard 'kubeflow-user/blue-book-bulldozers-pua2d' to become ready...\n",
      "2021-04-22 14:00:10 Kale tensorboardutils:108 [INFO]     Waiting for Tensorboard 'kubeflow-user/blue-book-bulldozers-pua2d' to become ready...\n",
      "2021-04-22 14:00:15 Kale tensorboardutils:108 [INFO]     Waiting for Tensorboard 'kubeflow-user/blue-book-bulldozers-pua2d' to become ready...\n",
      "2021-04-22 14:00:20 Kale tensorboardutils:108 [INFO]     Waiting for Tensorboard 'kubeflow-user/blue-book-bulldozers-pua2d' to become ready...\n",
      "2021-04-22 14:00:25 Kale tensorboardutils:108 [INFO]     Waiting for Tensorboard 'kubeflow-user/blue-book-bulldozers-pua2d' to become ready...\n",
      "2021-04-22 14:00:30 Kale tensorboardutils:108 [INFO]     Waiting for Tensorboard 'kubeflow-user/blue-book-bulldozers-pua2d' to become ready...\n",
      "2021-04-22 14:00:30 Kale tensorboardutils:116 [INFO]     Tensorboard 'kubeflow-user/blue-book-bulldozers-pua2d' is ready\n",
      "2021-04-22 14:00:30 Kale api:530              [INFO]     Adding OwnerReference on PVC...\n",
      "2021-04-22 14:00:31 Kale api:546              [INFO]     Successfully added OwnerReference on PVC\n",
      "2021-04-22 14:00:31 Kale api:565              [INFO]     You can visit the Tensorboards Web App to view it! URL path: /tensorboard/kubeflow-user/blue-book-bulldozers-pua2d/\n"
     ]
    },
    {
     "output_type": "display_data",
     "data": {
      "text/html": "<a href='/tensorboard/kubeflow-user/blue-book-bulldozers-pua2d/' target='_blank'>Tensorboard server</a>",
      "text/plain": "<IPython.core.display.HTML object>"
     },
     "metadata": {}
    }
   ],
   "execution_count": 16,
   "metadata": {}
  },
  {
   "cell_type": "code",
   "source": [],
   "outputs": [],
   "execution_count": null,
   "metadata": {}
  }
 ],
 "metadata": {
  "kernelspec": {
   "display_name": "Python 3",
   "language": "python",
   "name": "python3"
  },
  "kubeflow_notebook": {
   "katib_run": false,
   "pipeline_name": "open-vaccine-model",
   "steps_defaults": [
    "label:access-ml-pipeline:true",
    "label:access-rok:true"
   ],
   "experiment_name": "open-vaccine",
   "autosnapshot": true,
   "katib_metadata": {
    "algorithm": {
     "algorithmName": "grid"
    },
    "maxFailedTrialCount": 3,
    "maxTrialCount": 12,
    "objective": {
     "additionalMetricNames": [],
     "goal": 0,
     "objectiveMetricName": "validation-loss",
     "type": "minimize"
    },
    "parallelTrialCount": 1,
    "parameters": [
     {
      "feasibleSpace": {
       "max": "0.01",
       "min": "0.0001",
       "step": "0.0003"
      },
      "name": "LR",
      "parameterType": "double"
     },
     {
      "feasibleSpace": {
       "max": "256",
       "min": "32",
       "step": "32"
      },
      "name": "BATCH_SIZE",
      "parameterType": "int"
     },
     {
      "feasibleSpace": {
       "max": "100",
       "min": "20",
       "step": "20"
      },
      "name": "EMBED_DIM",
      "parameterType": "int"
     },
     {
      "feasibleSpace": {
       "list": [
        "0.2",
        "0.3",
        "0.4",
        "0.5"
       ]
      },
      "name": "DROPOUT",
      "parameterType": "categorical"
     },
     {
      "feasibleSpace": {
       "list": [
        "0.2",
        "0.3",
        "0.4",
        "0.5"
       ]
      },
      "name": "SP_DROPOUT",
      "parameterType": "categorical"
     }
    ]
   },
   "volumes": [
    {
     "annotations": [],
     "mount_point": "/home/jovyan",
     "name": "workspace-dev-server-hzz3yf7e5",
     "size": 5,
     "size_type": "Gi",
     "snapshot": false,
     "type": "clone"
    },
    {
     "annotations": [],
     "mount_point": "/home/jovyan/projects",
     "name": "projects-mdtztxkox",
     "size": 10,
     "size_type": "Gi",
     "snapshot": false,
     "type": "clone"
    }
   ],
   "docker_image": "",
   "experiment": {
    "id": "new",
    "name": "open-vaccine"
   },
   "snapshot_volumes": true,
   "pipeline_description": "ML model for the open vaccine Kaggle competition"
  },
  "language_info": {
   "name": "python",
   "version": "3.6.9",
   "mimetype": "text/x-python",
   "codemirror_mode": {
    "name": "ipython",
    "version": 3
   },
   "pygments_lexer": "ipython3",
   "nbconvert_exporter": "python",
   "file_extension": ".py"
  },
  "nteract": {
   "version": "0.28.0"
  }
 },
 "nbformat": 4,
 "nbformat_minor": 4
}
